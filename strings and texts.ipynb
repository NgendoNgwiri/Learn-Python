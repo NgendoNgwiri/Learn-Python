{
 "cells": [
  {
   "cell_type": "code",
   "execution_count": 10,
   "metadata": {},
   "outputs": [
    {
     "name": "stdout",
     "output_type": "stream",
     "text": [
      "There are 10 types of people.\n",
      "Those wh know Binary and those who don't.\n",
      "I said: 'There are 10 types of people.'.\n",
      "I also said: 'Those wh know Binary and those who don't.'.\n",
      "Isn't that joke so funny?! False\n",
      "This is the left side of...A string with a right side\n"
     ]
    }
   ],
   "source": [
    "x = \"There are %d types of people.\" % 10\n",
    "binary = \"Binary\"\n",
    "do_not = \"don't\"\n",
    "y= \"Those wh know %s and those who %s.\" %(binary , do_not)\n",
    "print (x)\n",
    "print (y)\n",
    "print (\"I said: %r.\" % x)\n",
    "print (\"I also said: '%s'.\" % y)\n",
    "hillarious =False\n",
    "joke_evaluation =\"Isn't that joke so funny?! %r\"\n",
    "print (joke_evaluation % hillarious)\n",
    "w =\"This is the left side of...\"\n",
    "e =\"A string with a right side\"\n",
    "print (w + e)\n",
    "\n",
    "\n",
    "\n"
   ]
  },
  {
   "cell_type": "code",
   "execution_count": null,
   "metadata": {},
   "outputs": [],
   "source": [
    "from sys import argv\n",
    "script, use_name =argv\n",
    "prompt= '>'\n",
    "print(\"Hi %S, I'm the %s script.\" %(user_name, script))\n",
    "print(\"Id like to ask you a few quaestions.\")"
   ]
  },
  {
   "cell_type": "code",
   "execution_count": null,
   "metadata": {},
   "outputs": [],
   "source": []
  },
  {
   "cell_type": "code",
   "execution_count": null,
   "metadata": {},
   "outputs": [],
   "source": []
  }
 ],
 "metadata": {
  "kernelspec": {
   "display_name": "Python 3",
   "language": "python",
   "name": "python3"
  },
  "language_info": {
   "codemirror_mode": {
    "name": "ipython",
    "version": 3
   },
   "file_extension": ".py",
   "mimetype": "text/x-python",
   "name": "python",
   "nbconvert_exporter": "python",
   "pygments_lexer": "ipython3",
   "version": "3.6.5"
  }
 },
 "nbformat": 4,
 "nbformat_minor": 2
}
